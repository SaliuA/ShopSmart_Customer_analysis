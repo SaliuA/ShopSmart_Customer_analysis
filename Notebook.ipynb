{
 "cells": [
  {
   "cell_type": "markdown",
   "metadata": {},
   "source": [
    "<h1><center>ShopSmart Customer Analysis</center></h1>\n",
    "<center><img src=\"https://www.leadsquared.com/wp-content/uploads/2021/11/Customer-Analysis-1.jpg\" align=\"center\"/></center>"
   ]
  },
  {
   "cell_type": "markdown",
   "metadata": {},
   "source": [
    "<a id='1'></a>\n",
    "# 1 Introduction\n",
    "The objective of this notebook is to conduct a comprehensive analysis of the data gathered from the ShopSmart website. The aim is to uncover valuable insights into how customers interact with the site, their buying behaviors, and their product preferences.\n",
    "\n",
    "In this notebook, I am going to try to answer a few questions:\n",
    "\n",
    "# Data Analysis Outline\n",
    "\n",
    "# A. Visit Frequency\n",
    "1. Determine the frequency of the customer's visits to the website based on the available data.\n",
    "2. Identify any patterns or trends in the frequency of the customer's visits.\n",
    "\n",
    "# B. Location Analysis\n",
    "1. Ascertain the customer's location using the provided data.\n",
    "2. Analyze how the customer's location might influence their purchasing behavior.\n",
    "\n",
    "# C. Overall Purchase Behavior\n",
    "1. Draw insights about the customer's overall behavior on the website using the provided data.\n",
    "2. Discuss how these insights could inform marketing strategies or personalized recommendations for this customer.\n",
    "\n",
    "\n",
    "\n",
    "Data source :\n",
    "\n",
    "* <a href=\"https://www.kaggle.com/datasets/chicago/chicago-crime\" target=\"_blank\">\n",
    "    <img src=\"https://img.shields.io/badge/Kaggle-035a7d?style=for-the-badge&logo=kaggle&logoColor=white\" alt=\"Kaggle\">\n",
    " </a>\n",
    "\n",
    "GitHub Project Repository :\n",
    "* [Chicago crime dataset EDA](https://github.com/SaliuA/Circle_17_Chicago_Crime_EDA)\n",
    "\n",
    "### This project also serves as project for AltSchool Data science Second semester \n",
    "* [Alt school Data science](https://altschoolafrica.com/)"
   ]
  },
  {
   "cell_type": "markdown",
   "metadata": {},
   "source": []
  }
 ],
 "metadata": {
  "language_info": {
   "name": "python"
  }
 },
 "nbformat": 4,
 "nbformat_minor": 2
}
